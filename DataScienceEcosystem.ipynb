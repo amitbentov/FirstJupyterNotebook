{
 "cells": [
  {
   "cell_type": "markdown",
   "id": "6d4d9717-87fb-463f-9dbf-d5d5d334e4b9",
   "metadata": {},
   "source": [
    "## Data Science Tools and Ecosystem"
   ]
  },
  {
   "cell_type": "markdown",
   "id": "900921fa-256b-48d4-8b81-740fa8cb7146",
   "metadata": {},
   "source": [
    "In this notebook, Data Science Tools and Ecosystem are summarized."
   ]
  },
  {
   "cell_type": "markdown",
   "id": "30fa4b68-c1e2-45d8-b99a-5e6a6f34ca8d",
   "metadata": {},
   "source": [
    "Some of the popular languages that Data Scientists use are:\n",
    "1. Python\n",
    "2. R\n",
    "3. SQL"
   ]
  },
  {
   "cell_type": "markdown",
   "id": "1a85692e-d88b-45a3-a7c5-2021e2c45ba1",
   "metadata": {},
   "source": [
    "Some of the commonly used libraries used by Data Scientists include:\n",
    "1. NumPy\n",
    "2. pandas\n",
    "3. Scikit-learn\n",
    "4. Matplotlib\n",
    "5. TensorFlow"
   ]
  },
  {
   "cell_type": "markdown",
   "id": "f9934c8a-7ad4-48a0-b2ee-5568d09da8e7",
   "metadata": {},
   "source": [
    "| Data Science Tools  |\n",
    "|-----------|\n",
    "| Jupyter Notebook     |\n",
    "| RStudio     |\n",
    "| PyCharm (Community Edition)     |\n"
   ]
  },
  {
   "cell_type": "markdown",
   "id": "b7452a43-8866-4dde-8860-7bad36edf61a",
   "metadata": {},
   "source": [
    "#### Below are a few examples of evaluating arithmetic expressions in Python"
   ]
  },
  {
   "cell_type": "code",
   "execution_count": 9,
   "id": "a8603481-2c43-4e03-9fed-4305fe5d1ee6",
   "metadata": {},
   "outputs": [
    {
     "data": {
      "text/plain": [
       "17"
      ]
     },
     "execution_count": 9,
     "metadata": {},
     "output_type": "execute_result"
    }
   ],
   "source": [
    "(3*4)+5\n",
    "#This a simple arithmetic expression to mutiply then add integers"
   ]
  },
  {
   "cell_type": "code",
   "execution_count": 13,
   "id": "db0d6737-910e-40d9-879d-d9979d4fa788",
   "metadata": {},
   "outputs": [
    {
     "data": {
      "text/plain": [
       "3.3333333333333335"
      ]
     },
     "execution_count": 13,
     "metadata": {},
     "output_type": "execute_result"
    }
   ],
   "source": [
    "200/60\n",
    "#This will convert 200 minutes to hours by diving by 60"
   ]
  },
  {
   "cell_type": "markdown",
   "id": "c8134148-18dd-4cdc-a12a-042204683139",
   "metadata": {},
   "source": [
    "**Objectives:**\n",
    "* Popular DS languages\n",
    "* Popular DS libraries\n",
    "* Data Science Tools"
   ]
  },
  {
   "cell_type": "markdown",
   "id": "5feaee73-0741-450b-8900-f07140c58d9d",
   "metadata": {},
   "source": [
    "### Author\n",
    "Amit Ben Tov"
   ]
  },
  {
   "cell_type": "code",
   "execution_count": null,
   "id": "db74fb4a-52f7-4d64-aa15-ecf7e45cf1c8",
   "metadata": {},
   "outputs": [],
   "source": []
  }
 ],
 "metadata": {
  "kernelspec": {
   "display_name": "Python 3 (ipykernel)",
   "language": "python",
   "name": "python3"
  },
  "language_info": {
   "codemirror_mode": {
    "name": "ipython",
    "version": 3
   },
   "file_extension": ".py",
   "mimetype": "text/x-python",
   "name": "python",
   "nbconvert_exporter": "python",
   "pygments_lexer": "ipython3",
   "version": "3.12.4"
  }
 },
 "nbformat": 4,
 "nbformat_minor": 5
}
